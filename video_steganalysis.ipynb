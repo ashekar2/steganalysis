{
 "cells": [
  {
   "cell_type": "markdown",
   "metadata": {},
   "source": [
    "# Steganalysis on Videos"
   ]
  },
  {
   "cell_type": "markdown",
   "metadata": {},
   "source": [
    "### The following file contains functions for utilizing LSB encoding in order to hide a video into another video.\n",
    "The two main functionalities are:\n",
    "* encode_video - This function accepts two video files (mp4) as input. It splits each video into speparate frames and then applies the encoding procedure as defined in single_frame_steganalysis.py\n",
    "* decode_video - This function accepts as input a video (mp4). It breaks down the video into a set of frames and performs the decoding process as defined in single_frame_steganalysis.py"
   ]
  },
  {
   "cell_type": "code",
   "execution_count": null,
   "metadata": {},
   "outputs": [],
   "source": [
    "import numpy as np\n",
    "import scipy as sc\n",
    "from scipy import misc\n",
    "import matplotlib.pyplot as plt\n",
    "import os\n",
    "import cv2\n",
    "from single_frame_steganalysis import *\n",
    "import scipy.misc"
   ]
  },
  {
   "cell_type": "code",
   "execution_count": null,
   "metadata": {},
   "outputs": [],
   "source": [
    "def split_video_into_frames(video_path, path_out, vid_name):\n",
    "    count = 0\n",
    "    vidcap = cv2.VideoCapture(video_path)\n",
    "    success,image = vidcap.read()\n",
    "    success = True\n",
    "    while success:\n",
    "        vidcap.set(cv2.CAP_PROP_POS_MSEC,(count*1000)) # added this line \n",
    "        success,image = vidcap.read()\n",
    "        if success:\n",
    "            cv2.imwrite( path_out + vid_name + \"%d.jpg\" % count, image) # save frame as JPEG file\n",
    "            count = count + 1\n",
    "    return count"
   ]
  },
  {
   "cell_type": "code",
   "execution_count": null,
   "metadata": {},
   "outputs": [],
   "source": [
    "# SOURCE: https://stackoverflow.com/questions/44947505/how-to-make-a-movie-out-of-images-in-python\n",
    "def convert_frames_to_video(images, image_folder, video_name='./data/encoded.mp4'):\n",
    "#     images = [img for img in os.listdir(image_folder) if img.endswith(\".png\")]\n",
    "    frame = cv2.imread(os.path.join(image_folder, images[0]))\n",
    "    height, width, layers = frame.shape\n",
    "\n",
    "    video = cv2.VideoWriter(video_name, -1, 1, (width,height))\n",
    "\n",
    "    for image in images:\n",
    "        video.write(cv2.imread(os.path.join(image_folder, image)))\n",
    "\n",
    "    cv2.destroyAllWindows()\n",
    "    video.release()"
   ]
  },
  {
   "cell_type": "code",
   "execution_count": null,
   "metadata": {},
   "outputs": [],
   "source": [
    "def encode_video(secret_video_path, outer_video_path, path_out, secret_video_name, outer_video_name):\n",
    "    if not(os.path.exists(path_out)):\n",
    "    os.mkdir(path_out)\n",
    "    num_secret_frames = split_video_into_frames(secret_video_path, path_out, secret_video_name)\n",
    "    _ = split_video_into_frames(outer_video_path, path_out, outer_video_name)\n",
    "\n",
    "    # iterate over each pair of frames\n",
    "    for i in range(num_secret_frames):\n",
    "        print(i)\n",
    "        save_path = path_out + 'encoded_' + str(i) + '.jpg'\n",
    "        visible_img_path = path_out + 'outer_' + str(i) + '.jpg'\n",
    "        secret_img_path = path_out + 'secret_' + str(i) + '.jpg'\n",
    "        encoded_frame = encode(visible_img_path, secret_img_path, save_path)\n",
    "        scipy.misc.imsave(save_path, encoded_frame)\n",
    "    encoded_frames = [img for img in os.listdir(path_out) if \"encoded\" in img] \n",
    "    encoded_frames = sorted(encoded_frames)\n",
    "    convert_frames_to_video(encoded_frames, path_out)"
   ]
  },
  {
   "cell_type": "code",
   "execution_count": null,
   "metadata": {},
   "outputs": [],
   "source": [
    "def decode_video(encoded_video, path_out, encoded_video_name):\n",
    "    num_secret_frames = split_video_into_frames(encoded_video, path_out, encoded_video_name)\n",
    "    for i in range(num_secret_frames):\n",
    "        encoded_frame = path_out + encoded_video_name + str(i) + '.jpg'\n",
    "        save_path = path_out + 'decoded_' + str(i) + '.jpg'\n",
    "        decoded_frame = decode(encoded_frame, save_path)\n",
    "        scipy.misc.imsave(save_path, decoded_frame)\n",
    "    # convert frames back to video\n",
    "    dencoded_frames = [img for img in os.listdir(path_out) if \"dencoded\" in img] \n",
    "    dencoded_frames = sorted(encoded_frames)\n",
    "    convert_frames_to_video(dencoded_frames, path_out)"
   ]
  },
  {
   "cell_type": "code",
   "execution_count": null,
   "metadata": {},
   "outputs": [],
   "source": [
    "secret_video_path = './data/secret.mp4'\n",
    "outer_video_path = './data/outer.mp4'\n",
    "path_out = './data/frames/'\n",
    "secret_video_name = 'secret_'\n",
    "outer_video_name = 'outer_'\n",
    "encode_video(secret_video_path, outer_video_path, path_out, secret_video_name, outer_video_name)"
   ]
  },
  {
   "cell_type": "code",
   "execution_count": null,
   "metadata": {},
   "outputs": [],
   "source": [
    "# decode video to extract secret video\n",
    "encoded_video = './data/encoded.mp4'\n",
    "path_out = './data/frames/'\n",
    "encoded_video_name = 'encoded_'\n",
    "decode_video(encoded_video, path_out, encoded_video_name)"
   ]
  },
  {
   "cell_type": "code",
   "execution_count": null,
   "metadata": {},
   "outputs": [],
   "source": []
  }
 ],
 "metadata": {
  "kernelspec": {
   "display_name": "Python 3",
   "language": "python",
   "name": "python3"
  },
  "language_info": {
   "codemirror_mode": {
    "name": "ipython",
    "version": 3
   },
   "file_extension": ".py",
   "mimetype": "text/x-python",
   "name": "python",
   "nbconvert_exporter": "python",
   "pygments_lexer": "ipython3",
   "version": "3.6.5"
  }
 },
 "nbformat": 4,
 "nbformat_minor": 2
}
